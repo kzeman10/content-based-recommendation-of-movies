{
 "cells": [
  {
   "attachments": {},
   "cell_type": "markdown",
   "metadata": {},
   "source": [
    "# Analysis of the dataset\n",
    "- dataset taken from https://www.kaggle.com/datasets/harshitshankhdhar/imdb-dataset-of-top-1000-movies-and-tv-shows"
   ]
  },
  {
   "cell_type": "code",
   "execution_count": 46,
   "metadata": {},
   "outputs": [],
   "source": [
    "import pandas as pd\n",
    "import pickle\n",
    "from sklearn.neighbors import NearestNeighbors\n",
    "import warnings\n",
    "from recommender import Recommender\n",
    "from nltk.stem import WordNetLemmatizer\n",
    "warnings.filterwarnings('ignore')\n"
   ]
  },
  {
   "cell_type": "code",
   "execution_count": 2,
   "metadata": {},
   "outputs": [
    {
     "data": {
      "text/html": [
       "<div>\n",
       "<style scoped>\n",
       "    .dataframe tbody tr th:only-of-type {\n",
       "        vertical-align: middle;\n",
       "    }\n",
       "\n",
       "    .dataframe tbody tr th {\n",
       "        vertical-align: top;\n",
       "    }\n",
       "\n",
       "    .dataframe thead th {\n",
       "        text-align: right;\n",
       "    }\n",
       "</style>\n",
       "<table border=\"1\" class=\"dataframe\">\n",
       "  <thead>\n",
       "    <tr style=\"text-align: right;\">\n",
       "      <th></th>\n",
       "      <th>Poster_Link</th>\n",
       "      <th>Series_Title</th>\n",
       "      <th>Released_Year</th>\n",
       "      <th>Certificate</th>\n",
       "      <th>Runtime</th>\n",
       "      <th>Genre</th>\n",
       "      <th>IMDB_Rating</th>\n",
       "      <th>Overview</th>\n",
       "      <th>Meta_score</th>\n",
       "      <th>Director</th>\n",
       "      <th>Star1</th>\n",
       "      <th>Star2</th>\n",
       "      <th>Star3</th>\n",
       "      <th>Star4</th>\n",
       "      <th>No_of_Votes</th>\n",
       "      <th>Gross</th>\n",
       "    </tr>\n",
       "  </thead>\n",
       "  <tbody>\n",
       "    <tr>\n",
       "      <th>0</th>\n",
       "      <td>https://m.media-amazon.com/images/M/MV5BMDFkYT...</td>\n",
       "      <td>The Shawshank Redemption</td>\n",
       "      <td>1994</td>\n",
       "      <td>A</td>\n",
       "      <td>142 min</td>\n",
       "      <td>Drama</td>\n",
       "      <td>9.3</td>\n",
       "      <td>Two imprisoned men bond over a number of years...</td>\n",
       "      <td>80.0</td>\n",
       "      <td>Frank Darabont</td>\n",
       "      <td>Tim Robbins</td>\n",
       "      <td>Morgan Freeman</td>\n",
       "      <td>Bob Gunton</td>\n",
       "      <td>William Sadler</td>\n",
       "      <td>2343110</td>\n",
       "      <td>28,341,469</td>\n",
       "    </tr>\n",
       "  </tbody>\n",
       "</table>\n",
       "</div>"
      ],
      "text/plain": [
       "                                         Poster_Link  \\\n",
       "0  https://m.media-amazon.com/images/M/MV5BMDFkYT...   \n",
       "\n",
       "               Series_Title Released_Year Certificate  Runtime  Genre  \\\n",
       "0  The Shawshank Redemption          1994           A  142 min  Drama   \n",
       "\n",
       "   IMDB_Rating                                           Overview  Meta_score  \\\n",
       "0          9.3  Two imprisoned men bond over a number of years...        80.0   \n",
       "\n",
       "         Director        Star1           Star2       Star3           Star4  \\\n",
       "0  Frank Darabont  Tim Robbins  Morgan Freeman  Bob Gunton  William Sadler   \n",
       "\n",
       "   No_of_Votes       Gross  \n",
       "0      2343110  28,341,469  "
      ]
     },
     "execution_count": 2,
     "metadata": {},
     "output_type": "execute_result"
    }
   ],
   "source": [
    "df = pd.read_csv('./data/data.csv')\n",
    "df_original = df.copy()\n",
    "df.head(1)"
   ]
  },
  {
   "cell_type": "code",
   "execution_count": 3,
   "metadata": {},
   "outputs": [
    {
     "data": {
      "text/plain": [
       "Poster_Link       object\n",
       "Series_Title      object\n",
       "Released_Year     object\n",
       "Certificate       object\n",
       "Runtime           object\n",
       "Genre             object\n",
       "IMDB_Rating      float64\n",
       "Overview          object\n",
       "Meta_score       float64\n",
       "Director          object\n",
       "Star1             object\n",
       "Star2             object\n",
       "Star3             object\n",
       "Star4             object\n",
       "No_of_Votes        int64\n",
       "Gross             object\n",
       "dtype: object"
      ]
     },
     "execution_count": 3,
     "metadata": {},
     "output_type": "execute_result"
    }
   ],
   "source": [
    "# check dtypes\n",
    "df.dtypes\n"
   ]
  },
  {
   "cell_type": "code",
   "execution_count": 4,
   "metadata": {},
   "outputs": [],
   "source": [
    "# drop column Poster_Link\n",
    "df.drop(['Poster_Link'], axis=1, inplace=True)\n"
   ]
  },
  {
   "cell_type": "code",
   "execution_count": 5,
   "metadata": {},
   "outputs": [],
   "source": [
    "# create one hot encoding for every possible word in the Series_Title column\n",
    "lemmatizer = WordNetLemmatizer()\n",
    "punctuation = ['.', ',', '!', '?', '(', ')', '\"']\n",
    "all_words = set()\n",
    "for title in df['Series_Title']:\n",
    "    words = title.split(' ')\n",
    "    for word in words:\n",
    "        # remove punctuation\n",
    "        for p in punctuation:\n",
    "            word = word.replace(p, '')\n",
    "        # convert to lowercase\n",
    "        word = word.lower()\n",
    "        all_words.add(word)\n",
    "\n",
    "# remove the\n",
    "all_words.remove('the')\n",
    "# lemmatize words\n",
    "all_words = [lemmatizer.lemmatize(word) for word in all_words]\n",
    "\n",
    "# create one hot encoding for every word\n",
    "for word in all_words:\n",
    "    df[word] = df['Series_Title'].str.contains(word, case=False).astype(bool)\n",
    "    # sparse column\n",
    "    df[word] = pd.SparseArray(df[word], dtype=bool)\n",
    "\n",
    "# drop Series_Title column\n",
    "df.drop(['Series_Title'], axis=1, inplace=True)"
   ]
  },
  {
   "cell_type": "code",
   "execution_count": 6,
   "metadata": {},
   "outputs": [],
   "source": [
    "# create one hot encoding for every possible word in the Overview column\n",
    "all_words = set()\n",
    "for overview in df['Overview']:\n",
    "    words = overview.split(' ')\n",
    "    for word in words:\n",
    "        # remove punctuation\n",
    "        for p in punctuation:\n",
    "            word = word.replace(p, '')\n",
    "        # convert to lowercase\n",
    "        word = word.lower()\n",
    "        all_words.add(word)\n",
    "\n",
    "common_words = ['the', 'a', 'an']\n",
    "for word in common_words:\n",
    "    all_words.remove(word)\n",
    "\n",
    "# lemmatize words\n",
    "all_words = [lemmatizer.lemmatize(word) for word in all_words]\n",
    "\n",
    "# create one hot encoding for every word\n",
    "for word in all_words:\n",
    "    df[word] = df['Overview'].str.contains(word, case=False).astype(bool)\n",
    "    # sparse column\n",
    "    df[word] = pd.SparseArray(df[word], dtype=bool)\n",
    "\n",
    "# drop Overview column\n",
    "df.drop(['Overview'], axis=1, inplace=True)"
   ]
  },
  {
   "cell_type": "code",
   "execution_count": 7,
   "metadata": {},
   "outputs": [
    {
     "data": {
      "text/plain": [
       "array(['1994', '1972', '2008', '1974', '1957', '2003', '1993', '2010',\n",
       "       '1999', '2001', '1966', '2002', '1990', '1980', '1975', '2020',\n",
       "       '2019', '2014', '1998', '1997', '1995', '1991', '1977', '1962',\n",
       "       '1954', '1946', '2011', '2006', '2000', '1988', '1985', '1968',\n",
       "       '1960', '1942', '1936', '1931', '2018', '2017', '2016', '2012',\n",
       "       '2009', '2007', '1984', '1981', '1979', '1971', '1963', '1964',\n",
       "       '1950', '1940', '2013', '2005', '2004', '1992', '1987', '1986',\n",
       "       '1983', '1976', '1973', '1965', '1959', '1958', '1952', '1948',\n",
       "       '1944', '1941', '1927', '1921', '2015', '1996', '1989', '1978',\n",
       "       '1961', '1955', '1953', '1925', '1924', '1982', '1967', '1951',\n",
       "       '1949', '1939', '1937', '1934', '1928', '1926', '1920', '1970',\n",
       "       '1969', '1956', '1947', '1945', '1930', '1938', '1935', '1933',\n",
       "       '1932', '1922', '1943', 'PG'], dtype=object)"
      ]
     },
     "execution_count": 7,
     "metadata": {},
     "output_type": "execute_result"
    }
   ],
   "source": [
    "# print all unique values in a Release_Year column\n",
    "df['Released_Year'].unique()\n"
   ]
  },
  {
   "cell_type": "code",
   "execution_count": 8,
   "metadata": {},
   "outputs": [
    {
     "data": {
      "text/html": [
       "<div>\n",
       "<style scoped>\n",
       "    .dataframe tbody tr th:only-of-type {\n",
       "        vertical-align: middle;\n",
       "    }\n",
       "\n",
       "    .dataframe tbody tr th {\n",
       "        vertical-align: top;\n",
       "    }\n",
       "\n",
       "    .dataframe thead th {\n",
       "        text-align: right;\n",
       "    }\n",
       "</style>\n",
       "<table border=\"1\" class=\"dataframe\">\n",
       "  <thead>\n",
       "    <tr style=\"text-align: right;\">\n",
       "      <th></th>\n",
       "      <th>Released_Year</th>\n",
       "      <th>Certificate</th>\n",
       "      <th>Runtime</th>\n",
       "      <th>Genre</th>\n",
       "      <th>IMDB_Rating</th>\n",
       "      <th>Meta_score</th>\n",
       "      <th>Director</th>\n",
       "      <th>Star1</th>\n",
       "      <th>Star2</th>\n",
       "      <th>Star3</th>\n",
       "      <th>...</th>\n",
       "      <th>post-apocalyptic</th>\n",
       "      <th>fighting</th>\n",
       "      <th>polish</th>\n",
       "      <th>extinct</th>\n",
       "      <th>sophie</th>\n",
       "      <th>comic</th>\n",
       "      <th>tatarigami's</th>\n",
       "      <th>rican</th>\n",
       "      <th>exquisite</th>\n",
       "      <th>activities</th>\n",
       "    </tr>\n",
       "  </thead>\n",
       "  <tbody>\n",
       "    <tr>\n",
       "      <th>966</th>\n",
       "      <td>PG</td>\n",
       "      <td>U</td>\n",
       "      <td>140 min</td>\n",
       "      <td>Adventure, Drama, History</td>\n",
       "      <td>7.6</td>\n",
       "      <td>77.0</td>\n",
       "      <td>Ron Howard</td>\n",
       "      <td>Tom Hanks</td>\n",
       "      <td>Bill Paxton</td>\n",
       "      <td>Kevin Bacon</td>\n",
       "      <td>...</td>\n",
       "      <td>False</td>\n",
       "      <td>False</td>\n",
       "      <td>False</td>\n",
       "      <td>False</td>\n",
       "      <td>False</td>\n",
       "      <td>False</td>\n",
       "      <td>False</td>\n",
       "      <td>False</td>\n",
       "      <td>False</td>\n",
       "      <td>False</td>\n",
       "    </tr>\n",
       "  </tbody>\n",
       "</table>\n",
       "<p>1 rows × 6903 columns</p>\n",
       "</div>"
      ],
      "text/plain": [
       "    Released_Year Certificate  Runtime                      Genre  \\\n",
       "966            PG           U  140 min  Adventure, Drama, History   \n",
       "\n",
       "     IMDB_Rating  Meta_score    Director      Star1        Star2        Star3  \\\n",
       "966          7.6        77.0  Ron Howard  Tom Hanks  Bill Paxton  Kevin Bacon   \n",
       "\n",
       "     ... post-apocalyptic  fighting polish  extinct  sophie  comic  \\\n",
       "966  ...            False     False  False    False   False  False   \n",
       "\n",
       "     tatarigami's  rican  exquisite  activities  \n",
       "966         False  False      False       False  \n",
       "\n",
       "[1 rows x 6903 columns]"
      ]
     },
     "execution_count": 8,
     "metadata": {},
     "output_type": "execute_result"
    }
   ],
   "source": [
    "# print row where Released_Year is PG\n",
    "df[df['Released_Year'] == 'PG']\n"
   ]
  },
  {
   "cell_type": "code",
   "execution_count": 9,
   "metadata": {},
   "outputs": [],
   "source": [
    "# swap value PG with 1995\n",
    "df.loc[df['Released_Year'] == 'PG', 'Released_Year'] = 1995\n"
   ]
  },
  {
   "cell_type": "code",
   "execution_count": 10,
   "metadata": {},
   "outputs": [],
   "source": [
    "# convert Released_Year to int\n",
    "df['Released_Year'] = df['Released_Year'].astype(int)\n"
   ]
  },
  {
   "cell_type": "code",
   "execution_count": 11,
   "metadata": {},
   "outputs": [
    {
     "data": {
      "text/plain": [
       "<AxesSubplot: >"
      ]
     },
     "execution_count": 11,
     "metadata": {},
     "output_type": "execute_result"
    },
    {
     "data": {
      "image/png": "[encoded data removed]",
      "text/plain": [
       "<Figure size 640x480 with 1 Axes>"
      ]
     },
     "metadata": {},
     "output_type": "display_data"
    }
   ],
   "source": [
    "# plot histogram of Released_Year\n",
    "df['Released_Year'].hist()\n"
   ]
  },
  {
   "cell_type": "code",
   "execution_count": 12,
   "metadata": {},
   "outputs": [
    {
     "data": {
      "text/plain": [
       "U           234\n",
       "A           197\n",
       "UA          175\n",
       "R           146\n",
       "PG-13        43\n",
       "PG           37\n",
       "Passed       34\n",
       "G            12\n",
       "Approved     11\n",
       "TV-PG         3\n",
       "GP            2\n",
       "TV-14         1\n",
       "16            1\n",
       "TV-MA         1\n",
       "Unrated       1\n",
       "U/A           1\n",
       "Name: Certificate, dtype: int64"
      ]
     },
     "execution_count": 12,
     "metadata": {},
     "output_type": "execute_result"
    }
   ],
   "source": [
    "# print all unique values in a certificate column and their counts\n",
    "df['Certificate'].value_counts()\n"
   ]
  },
  {
   "cell_type": "code",
   "execution_count": 13,
   "metadata": {},
   "outputs": [],
   "source": [
    "# all unique values with count less than 2 are replaced with 'Other'\n",
    "df.loc[df['Certificate'].isin(df['Certificate'].value_counts()[df['Certificate'].value_counts() == 1].index), 'Certificate'] = 'Other'"
   ]
  },
  {
   "cell_type": "code",
   "execution_count": 14,
   "metadata": {},
   "outputs": [
    {
     "data": {
      "text/plain": [
       "U           234\n",
       "A           197\n",
       "UA          175\n",
       "R           146\n",
       "PG-13        43\n",
       "PG           37\n",
       "Passed       34\n",
       "G            12\n",
       "Approved     11\n",
       "Other         5\n",
       "TV-PG         3\n",
       "GP            2\n",
       "Name: Certificate, dtype: int64"
      ]
     },
     "execution_count": 14,
     "metadata": {},
     "output_type": "execute_result"
    }
   ],
   "source": [
    "# print all unique values in a certificate column and their counts\n",
    "df['Certificate'].value_counts()\n"
   ]
  },
  {
   "cell_type": "code",
   "execution_count": 15,
   "metadata": {},
   "outputs": [],
   "source": [
    "# make Certificate column categorical variable\n",
    "df['Certificate'] = df['Certificate'].astype('category')\n"
   ]
  },
  {
   "cell_type": "code",
   "execution_count": 16,
   "metadata": {},
   "outputs": [],
   "source": [
    "# one hot encode Certificate column\n",
    "df = pd.get_dummies(df, columns=['Certificate'], sparse=True)\n"
   ]
  },
  {
   "cell_type": "code",
   "execution_count": 17,
   "metadata": {},
   "outputs": [
    {
     "data": {
      "text/plain": [
       "(1000, 6914)"
      ]
     },
     "execution_count": 17,
     "metadata": {},
     "output_type": "execute_result"
    }
   ],
   "source": [
    "df.shape\n"
   ]
  },
  {
   "cell_type": "code",
   "execution_count": 18,
   "metadata": {},
   "outputs": [
    {
     "data": {
      "text/plain": [
       "Drama                           85\n",
       "Drama, Romance                  37\n",
       "Comedy, Drama                   35\n",
       "Comedy, Drama, Romance          31\n",
       "Action, Crime, Drama            30\n",
       "Biography, Drama, History       28\n",
       "Crime, Drama, Thriller          28\n",
       "Crime, Drama, Mystery           27\n",
       "Crime, Drama                    26\n",
       "Animation, Adventure, Comedy    24\n",
       "Name: Genre, dtype: int64"
      ]
     },
     "execution_count": 18,
     "metadata": {},
     "output_type": "execute_result"
    }
   ],
   "source": [
    "# top 10 genres\n",
    "df['Genre'].value_counts().head(10)\n"
   ]
  },
  {
   "cell_type": "code",
   "execution_count": 19,
   "metadata": {},
   "outputs": [],
   "source": [
    "# convert Genre column to lowercase\n",
    "df['Genre'] = df['Genre'].str.lower()\n"
   ]
  },
  {
   "cell_type": "code",
   "execution_count": 20,
   "metadata": {},
   "outputs": [
    {
     "name": "stdout",
     "output_type": "stream",
     "text": [
      "21\n",
      "['action', 'horror', 'crime', 'history', 'musical', 'drama', 'music', 'sport', 'mystery', 'animation', 'film-noir', 'comedy', 'thriller', 'western', 'family', 'biography', 'sci-fi', 'romance', 'adventure', 'fantasy', 'war']\n"
     ]
    }
   ],
   "source": [
    "# looks that there are mixed genres get all genre keywords to list\n",
    "genres = df['Genre'].str.split(',').values.tolist()\n",
    "# flatten list\n",
    "genres = [item for sublist in genres for item in sublist]\n",
    "# remove whitespaces\n",
    "genres = [item.strip() for item in genres]\n",
    "# delete duplicates\n",
    "genres = list(set(genres))\n",
    "print(len(genres))\n",
    "print(genres)\n"
   ]
  },
  {
   "cell_type": "code",
   "execution_count": 21,
   "metadata": {},
   "outputs": [],
   "source": [
    "# create new columns for each genre and assign False to all rows\n",
    "for genre in genres:\n",
    "    df[genre] = False\n",
    "\n",
    "# assign True to those rows where genre is present\n",
    "for index, row in df.iterrows():\n",
    "    for genre in row['Genre'].split(','):\n",
    "        df.loc[index, genre.strip()] = True\n",
    "\n",
    "# drop column Genre\n",
    "df.drop(columns='Genre', inplace=True)\n"
   ]
  },
  {
   "cell_type": "code",
   "execution_count": 22,
   "metadata": {},
   "outputs": [
    {
     "data": {
      "text/plain": [
       "(1000, 6916)"
      ]
     },
     "execution_count": 22,
     "metadata": {},
     "output_type": "execute_result"
    }
   ],
   "source": [
    "df.shape\n"
   ]
  },
  {
   "cell_type": "code",
   "execution_count": 23,
   "metadata": {},
   "outputs": [],
   "source": [
    "# one hot encode Director column\n",
    "df = pd.get_dummies(df, columns=['Director'], sparse=True)\n"
   ]
  },
  {
   "cell_type": "code",
   "execution_count": 24,
   "metadata": {},
   "outputs": [
    {
     "data": {
      "text/plain": [
       "(1000, 7463)"
      ]
     },
     "execution_count": 24,
     "metadata": {},
     "output_type": "execute_result"
    }
   ],
   "source": [
    "df.shape\n"
   ]
  },
  {
   "cell_type": "code",
   "execution_count": 25,
   "metadata": {},
   "outputs": [],
   "source": [
    "# print most common Stars from columns Star1, Star2, Star3, Star4 use pandas concat\n",
    "all_stars = pd.concat([df['Star1'], df['Star2'], df['Star3'], df['Star4']])\n",
    "all_stars.value_counts().head(20)\n",
    "# convert all stars to list\n",
    "all_stars = all_stars.values.tolist()\n"
   ]
  },
  {
   "cell_type": "code",
   "execution_count": 26,
   "metadata": {},
   "outputs": [],
   "source": [
    "# create sparse column for each star\n",
    "for star in all_stars:\n",
    "    df[star] = False\n",
    "\n",
    "# assign True to those rows where star is present\n",
    "for index, row in df.iterrows():\n",
    "    for star in [row['Star1'], row['Star2'], row['Star3'], row['Star4']]:\n",
    "        df.loc[index, star] = True\n",
    "\n",
    "# drop columns Star1, Star2, Star3, Star4\n",
    "df.drop(columns=['Star1', 'Star2', 'Star3', 'Star4'], inplace=True)\n",
    "\n",
    "# sparse columns\n",
    "for star in all_stars:\n",
    "    df[star] = pd.SparseArray(df[star], dtype='bool')\n"
   ]
  },
  {
   "cell_type": "code",
   "execution_count": 27,
   "metadata": {},
   "outputs": [
    {
     "data": {
      "text/plain": [
       "100 min    23\n",
       "130 min    23\n",
       "129 min    22\n",
       "101 min    22\n",
       "113 min    22\n",
       "Name: Runtime, dtype: int64"
      ]
     },
     "execution_count": 27,
     "metadata": {},
     "output_type": "execute_result"
    }
   ],
   "source": [
    "# print 5 most common runtime values\n",
    "df['Runtime'].value_counts().head(5)\n"
   ]
  },
  {
   "cell_type": "code",
   "execution_count": 28,
   "metadata": {},
   "outputs": [],
   "source": [
    "# delete mins from runtime values\n",
    "df['Runtime'] = df['Runtime'].str.replace('min', '')\n"
   ]
  },
  {
   "cell_type": "code",
   "execution_count": 29,
   "metadata": {},
   "outputs": [],
   "source": [
    "# convert runtime values to int\n",
    "df['Runtime'] = df['Runtime'].astype(int)\n"
   ]
  },
  {
   "cell_type": "code",
   "execution_count": 30,
   "metadata": {},
   "outputs": [
    {
     "data": {
      "text/plain": [
       "<AxesSubplot: ylabel='Frequency'>"
      ]
     },
     "execution_count": 30,
     "metadata": {},
     "output_type": "execute_result"
    },
    {
     "data": {
      "image/png": "[encoded data removed]",
      "text/plain": [
       "<Figure size 640x480 with 1 Axes>"
      ]
     },
     "metadata": {},
     "output_type": "display_data"
    }
   ],
   "source": [
    "# plot histogram of runtime values\n",
    "df['Runtime'].plot(kind='hist', bins=20)\n"
   ]
  },
  {
   "cell_type": "code",
   "execution_count": 31,
   "metadata": {},
   "outputs": [
    {
     "data": {
      "text/plain": [
       "4,360,000      5\n",
       "25,000,000     2\n",
       "5,450,000      2\n",
       "5,321,508      2\n",
       "9,600,000      2\n",
       "              ..\n",
       "106,662        1\n",
       "10,950         1\n",
       "4,018,695      1\n",
       "141,319,928    1\n",
       "30,500,000     1\n",
       "Name: Gross, Length: 823, dtype: int64"
      ]
     },
     "execution_count": 31,
     "metadata": {},
     "output_type": "execute_result"
    }
   ],
   "source": [
    "# print all unique values in a Gross column and their counts\n",
    "df['Gross'].value_counts()\n"
   ]
  },
  {
   "cell_type": "code",
   "execution_count": 32,
   "metadata": {},
   "outputs": [
    {
     "data": {
      "text/plain": [
       "169"
      ]
     },
     "execution_count": 32,
     "metadata": {},
     "output_type": "execute_result"
    }
   ],
   "source": [
    "# count NaN values in Gross column\n",
    "df['Gross'].isna().sum()\n"
   ]
  },
  {
   "cell_type": "code",
   "execution_count": 33,
   "metadata": {},
   "outputs": [],
   "source": [
    "# convert Gross values to int, replace ',' with ''\n",
    "df['Gross'] = df['Gross'].str.replace(',', '')\n",
    "# replace Nan values with 0\n",
    "df['Gross'] = df['Gross'].fillna(0)\n",
    "df['Gross'] = df['Gross'].astype(int)\n"
   ]
  },
  {
   "cell_type": "code",
   "execution_count": 34,
   "metadata": {},
   "outputs": [
    {
     "data": {
      "text/plain": [
       "<AxesSubplot: ylabel='Frequency'>"
      ]
     },
     "execution_count": 34,
     "metadata": {},
     "output_type": "execute_result"
    },
    {
     "data": {
      "image/png": "[encoded data removed]",
      "text/plain": [
       "<Figure size 640x480 with 1 Axes>"
      ]
     },
     "metadata": {},
     "output_type": "display_data"
    }
   ],
   "source": [
    "# plot histogram of Gross values\n",
    "df['Gross'].plot(kind='hist', bins=20)\n"
   ]
  },
  {
   "cell_type": "code",
   "execution_count": 35,
   "metadata": {},
   "outputs": [],
   "source": [
    "def one_row_differs(df, column_name):\n",
    "    \"\"\"\n",
    "    Check if there are only 2 possible values in the column and only one row differs\n",
    "    \"\"\"\n",
    "    values = df[column_name].value_counts()\n",
    "    if len(values) == 2:\n",
    "        if values.iloc[0] == 1 or values.iloc[1] == 1:\n",
    "            return True\n",
    "    return False\n",
    "    "
   ]
  },
  {
   "cell_type": "code",
   "execution_count": 36,
   "metadata": {},
   "outputs": [
    {
     "name": "stdout",
     "output_type": "stream",
     "text": [
      "progress: 99.99016522423288 %%%%\r"
     ]
    }
   ],
   "source": [
    "# drop columns where there is only one row different, because they don't provide any information and can't connect to any other column\n",
    "total_columns_length = len(df.columns)\n",
    "for i, column in enumerate(df.columns):\n",
    "    if one_row_differs(df, column):\n",
    "        print(f'progress: {i/total_columns_length * 100} % ', end='\\r')\n",
    "        df.drop(columns=[column], inplace=True)\n",
    "\n",
    "# print how many columns were dropped\n",
    "print(f'columns dropped: {total_columns_length - len(df.columns)} out of {total_columns_length}, now we have {len(df.columns)} columns')\n",
    "    "
   ]
  },
  {
   "attachments": {},
   "cell_type": "markdown",
   "metadata": {},
   "source": [
    "## features prep done\n",
    "- check"
   ]
  },
  {
   "cell_type": "code",
   "execution_count": 37,
   "metadata": {},
   "outputs": [
    {
     "name": "stdout",
     "output_type": "stream",
     "text": [
      "Meta_score    157\n",
      "dtype: int64\n"
     ]
    }
   ],
   "source": [
    "# print columns with nan values and their counts, only columns with nan values are printed\n",
    "na_columns = df.isna().sum()[df.isna().sum() > 0]\n",
    "print(na_columns)\n",
    "# aplply mean imputation to all columns with nan values\n",
    "df[na_columns.index] = df[na_columns.index].fillna(df[na_columns.index].mean())\n"
   ]
  },
  {
   "cell_type": "code",
   "execution_count": 38,
   "metadata": {},
   "outputs": [],
   "source": [
    "# check if number of object columns is 0\n",
    "assert df.select_dtypes(include=['object']).shape[1] == 0\n",
    "# check for any NaN values\n",
    "assert df.isna().sum().sum() == 0\n"
   ]
  },
  {
   "cell_type": "code",
   "execution_count": 39,
   "metadata": {},
   "outputs": [],
   "source": [
    "# apply standardization to all columns with values greater than 1\n",
    "for column in df.columns:\n",
    "    if df[column].max() > 1:\n",
    "        df[column] = (df[column] - df[column].mean()) / df[column].std()\n"
   ]
  },
  {
   "cell_type": "code",
   "execution_count": 40,
   "metadata": {},
   "outputs": [
    {
     "data": {
      "text/html": [
       "<div>\n",
       "<style scoped>\n",
       "    .dataframe tbody tr th:only-of-type {\n",
       "        vertical-align: middle;\n",
       "    }\n",
       "\n",
       "    .dataframe tbody tr th {\n",
       "        vertical-align: top;\n",
       "    }\n",
       "\n",
       "    .dataframe thead th {\n",
       "        text-align: right;\n",
       "    }\n",
       "</style>\n",
       "<table border=\"1\" class=\"dataframe\">\n",
       "  <thead>\n",
       "    <tr style=\"text-align: right;\">\n",
       "      <th></th>\n",
       "      <th>Released_Year</th>\n",
       "      <th>Runtime</th>\n",
       "      <th>IMDB_Rating</th>\n",
       "      <th>Meta_score</th>\n",
       "      <th>No_of_Votes</th>\n",
       "      <th>Gross</th>\n",
       "      <th>three</th>\n",
       "      <th>corner</th>\n",
       "      <th>east</th>\n",
       "      <th>giant</th>\n",
       "      <th>...</th>\n",
       "      <th>John Castle</th>\n",
       "      <th>Ward Bond</th>\n",
       "      <th>Gene Lockhart</th>\n",
       "      <th>Jeremy Strong</th>\n",
       "      <th>Bill McKinney</th>\n",
       "      <th>Henry Travers</th>\n",
       "      <th>Lucy Liu</th>\n",
       "      <th>Anthony Edwards</th>\n",
       "      <th>Radha Mitchell</th>\n",
       "      <th>Bruno Kirby</th>\n",
       "    </tr>\n",
       "  </thead>\n",
       "  <tbody>\n",
       "    <tr>\n",
       "      <th>0</th>\n",
       "      <td>0.119344</td>\n",
       "      <td>0.680189</td>\n",
       "      <td>4.902879</td>\n",
       "      <td>0.17853</td>\n",
       "      <td>6.321288</td>\n",
       "      <td>-0.27311</td>\n",
       "      <td>False</td>\n",
       "      <td>False</td>\n",
       "      <td>False</td>\n",
       "      <td>False</td>\n",
       "      <td>...</td>\n",
       "      <td>False</td>\n",
       "      <td>False</td>\n",
       "      <td>False</td>\n",
       "      <td>False</td>\n",
       "      <td>False</td>\n",
       "      <td>False</td>\n",
       "      <td>False</td>\n",
       "      <td>False</td>\n",
       "      <td>False</td>\n",
       "      <td>False</td>\n",
       "    </tr>\n",
       "  </tbody>\n",
       "</table>\n",
       "<p>1 rows × 3921 columns</p>\n",
       "</div>"
      ],
      "text/plain": [
       "   Released_Year   Runtime  IMDB_Rating  Meta_score  No_of_Votes    Gross  \\\n",
       "0       0.119344  0.680189     4.902879     0.17853     6.321288 -0.27311   \n",
       "\n",
       "   three  corner   east  giant  ...  John Castle  Ward Bond  Gene Lockhart  \\\n",
       "0  False   False  False  False  ...        False      False          False   \n",
       "\n",
       "   Jeremy Strong  Bill McKinney  Henry Travers  Lucy Liu  Anthony Edwards  \\\n",
       "0          False          False          False     False            False   \n",
       "\n",
       "   Radha Mitchell  Bruno Kirby  \n",
       "0           False        False  \n",
       "\n",
       "[1 rows x 3921 columns]"
      ]
     },
     "execution_count": 40,
     "metadata": {},
     "output_type": "execute_result"
    }
   ],
   "source": [
    "df.head(1)\n"
   ]
  },
  {
   "cell_type": "code",
   "execution_count": 41,
   "metadata": {},
   "outputs": [
    {
     "name": "stdout",
     "output_type": "stream",
     "text": [
      "<class 'pandas.core.frame.DataFrame'>\n",
      "RangeIndex: 1000 entries, 0 to 999\n",
      "Columns: 3921 entries, Released_Year to Bruno Kirby\n",
      "dtypes: Sparse[bool, False](3686), Sparse[uint8, 0](208), bool(21), float64(6)\n",
      "memory usage: 340.1 KB\n"
     ]
    }
   ],
   "source": [
    "df.info()"
   ]
  },
  {
   "attachments": {},
   "cell_type": "markdown",
   "metadata": {},
   "source": [
    "## Visualization"
   ]
  },
  {
   "cell_type": "code",
   "execution_count": 42,
   "metadata": {},
   "outputs": [
    {
     "data": {
      "image/png": "[encoded data removed]",
      "text/plain": [
       "<Figure size 640x480 with 1 Axes>"
      ]
     },
     "metadata": {},
     "output_type": "display_data"
    }
   ],
   "source": [
    "# visualize using PCA\n",
    "from sklearn.decomposition import PCA\n",
    "import matplotlib.pyplot as plt\n",
    "import seaborn as sns\n",
    "\n",
    "# create PCA instance\n",
    "pca = PCA(n_components=2)\n",
    "\n",
    "# fit PCA on the data\n",
    "pca.fit(df)\n",
    "\n",
    "# transform data\n",
    "df_pca = pca.transform(df)\n",
    "\n",
    "# create a scatter plot of the transformed data\n",
    "plt.scatter(df_pca[:, 0], df_pca[:, 1], alpha=0.2)\n",
    "plt.xlabel('PC1')\n",
    "plt.ylabel('PC2')\n",
    "plt.show()\n"
   ]
  },
  {
   "cell_type": "code",
   "execution_count": null,
   "metadata": {},
   "outputs": [],
   "source": [
    "# save dataframe as pickle file\n",
    "# df.to_pickle('./data/df_processed.pkl')"
   ]
  }
 ],
 "metadata": {
  "kernelspec": {
   "display_name": "Python 3",
   "language": "python",
   "name": "python3"
  },
  "language_info": {
   "codemirror_mode": {
    "name": "ipython",
    "version": 3
   },
   "file_extension": ".py",
   "mimetype": "text/x-python",
   "name": "python",
   "nbconvert_exporter": "python",
   "pygments_lexer": "ipython3",
   "version": "3.10.10"
  },
  "orig_nbformat": 4
 },
 "nbformat": 4,
 "nbformat_minor": 2
}
