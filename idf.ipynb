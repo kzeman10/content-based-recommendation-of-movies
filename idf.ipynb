{
 "cells": [
  {
   "cell_type": "code",
   "execution_count": 59,
   "metadata": {},
   "outputs": [],
   "source": [
    "import math\n",
    "import pandas as pd\n",
    "import numpy as np\n",
    "import random\n",
    "\n",
    "import warnings\n",
    "warnings.filterwarnings('ignore')"
   ]
  },
  {
   "cell_type": "code",
   "execution_count": 60,
   "metadata": {},
   "outputs": [],
   "source": [
    "# processed file load from pickle\n",
    "df_processed = pd.read_pickle('./../data/df_processed.pkl')"
   ]
  },
  {
   "cell_type": "code",
   "execution_count": 61,
   "metadata": {},
   "outputs": [],
   "source": [
    "def idf_score(column):\n",
    "    \"\"\"\n",
    "    returns IDF of numpy array\n",
    "    IDF = log((Total number of documents in corpus) / (Number of documents containing the term))\n",
    "    \"\"\"\n",
    "    N = len(column)\n",
    "    number_non_zero = column.astype(bool).sum(axis=0)\n",
    "    return np.log(N / number_non_zero)"
   ]
  },
  {
   "cell_type": "code",
   "execution_count": 62,
   "metadata": {},
   "outputs": [
    {
     "name": "stdout",
     "output_type": "stream",
     "text": [
      "Index(['Released_Year', 'Runtime', 'IMDB_Rating', 'Meta_score', 'No_of_Votes',\n",
      "       'Gross'],\n",
      "      dtype='object')\n",
      "about to normalize 3915 columns\n",
      "column  has idf 0.0\n",
      "column hotel has idf 5.298317366548036\n",
      "column tennis has idf 5.809142990314028\n",
      "column humanoid has idf 6.214608098422191\n",
      "column texas has idf 5.298317366548036\n",
      "column danish has idf 6.214608098422191\n",
      "column survive has idf 4.605170185988092\n",
      "column d has idf 0.015113637810048106\n",
      "column Sohum Shah has idf 6.214608098422191\n",
      "column m has idf 0.038740828316430616\n",
      "column mumbai has idf 5.809142990314028\n",
      "column a has idf 0.3538218749563259\n",
      "column does has idf 4.8283137373023015\n",
      "column and has idf 0.5025268209512956\n",
      "column n has idf 0.4716049106127094\n",
      "column le has idf 0.5310283310835101\n",
      "column v has idf 0.31608154697347896\n",
      "column Director_Neeraj Pandey has idf 5.521460917862246\n",
      "column on has idf 0.38860799104174143\n",
      "column o has idf 0.49593701127224005\n",
      "column del has idf 5.298317366548036\n",
      "column mars has idf 5.115995809754082\n",
      "column Michael Biehn has idf 6.214608098422191\n",
      "column travels has idf 4.8283137373023015\n",
      "column 1900 has idf 6.214608098422191\n",
      "column sins has idf 5.521460917862246\n",
      "column helps has idf 4.961845129926823\n",
      "column or has idf 0.4338645826298623\n",
      "column trust has idf 6.214608098422191\n",
      "column he has idf 0.1165338162559516\n",
      "column his has idf 0.9416085398584451\n",
      "column attorney has idf 5.809142990314028\n",
      "column al has idf 0.5638748448558061\n",
      "column of has idf 0.515838165589535\n",
      "column liberate has idf 6.214608098422191\n",
      "column t has idf 0.0\n",
      "column at has idf 0.4764241970486583\n",
      "column is has idf 0.33267943838251673\n",
      "column as has idf 0.8746690571833357\n",
      "column madman has idf 5.809142990314028\n",
      "column Linda Hamilton has idf 6.214608098422191\n",
      "column face has idf 4.422848629194137\n",
      "column sued has idf 5.298317366548036\n",
      "column participant has idf 6.214608098422191\n",
      "column makes has idf 4.710530701645918\n",
      "column Director_Fritz Lang has idf 6.214608098422191\n",
      "column i has idf 0.0\n",
      "column Miyu Irino has idf 6.214608098422191\n",
      "column stalked has idf 6.214608098422191\n",
      "column de has idf 0.6236211179113351\n",
      "column Amitabh Bachchan has idf 5.521460917862246\n",
      "column to has idf 0.29840603581475655\n",
      "column in has idf 0.10869941692334092\n",
      "column te has idf 0.4049652330665133\n",
      "column el has idf 0.9014021193804045\n",
      "column drama has idf 0.3229638865964207\n",
      "column suddenly has idf 5.809142990314028\n",
      "column it has idf 0.6348782724359695\n",
      "column raj has idf 5.809142990314028\n",
      "column spends has idf 5.521460917862246\n",
      "column mysterious has idf 3.506557897319982\n",
      "column st has idf 0.387134151423441\n",
      "column severely has idf 5.521460917862246\n",
      "column singh has idf 5.298317366548036\n"
     ]
    }
   ],
   "source": [
    "# get all float columns\n",
    "float_columns = df_processed.select_dtypes(include=['float64']).columns\n",
    "print(float_columns)\n",
    "# normalize all columns except of float columns using idf method\n",
    "columns_to_normalize = list(set(df_processed.columns) - set(float_columns))\n",
    "print(f'about to normalize {len(columns_to_normalize)} columns')\n",
    "for column in columns_to_normalize:\n",
    "    # convert column to float\n",
    "    df_processed[column] = df_processed[column].astype(float)\n",
    "    # convert column to numpy array\n",
    "    column_array = df_processed[column].to_numpy()\n",
    "\n",
    "    idf = idf_score(column_array)\n",
    "    if idf == math.inf:\n",
    "        # drop column if idf is inf\n",
    "        df_processed.drop(column, axis=1, inplace=True)\n",
    "        continue\n",
    "    if idf < 1 or random.randint(0, 100) == 0:\n",
    "        print(f'column {column} has idf {idf}')\n",
    "    # assign value idf to all non zero values\n",
    "    column_array[column_array != 0] = idf\n",
    "    # assign normalized values to column and sparse\n",
    "    df_processed[column] = pd.SparseArray(column_array, dtype=float)\n",
    "\n",
    "    \n"
   ]
  },
  {
   "cell_type": "code",
   "execution_count": 67,
   "metadata": {},
   "outputs": [
    {
     "name": "stdout",
     "output_type": "stream",
     "text": [
      "<class 'pandas.core.frame.DataFrame'>\n",
      "RangeIndex: 1000 entries, 0 to 999\n",
      "Columns: 3898 entries, Released_Year to Bruno Kirby\n",
      "dtypes: Sparse[float64, nan](3892), float64(6)\n",
      "memory usage: 44.6 MB\n"
     ]
    }
   ],
   "source": [
    "df_processed.info()"
   ]
  },
  {
   "cell_type": "code",
   "execution_count": null,
   "metadata": {},
   "outputs": [],
   "source": [
    "df_processed.to_pickle('./data/df_processed_idf.pkl')"
   ]
  }
 ],
 "metadata": {
  "kernelspec": {
   "display_name": "vwm",
   "language": "python",
   "name": "python3"
  },
  "language_info": {
   "codemirror_mode": {
    "name": "ipython",
    "version": 3
   },
   "file_extension": ".py",
   "mimetype": "text/x-python",
   "name": "python",
   "nbconvert_exporter": "python",
   "pygments_lexer": "ipython3",
   "version": "3.10.10"
  },
  "orig_nbformat": 4
 },
 "nbformat": 4,
 "nbformat_minor": 2
}
