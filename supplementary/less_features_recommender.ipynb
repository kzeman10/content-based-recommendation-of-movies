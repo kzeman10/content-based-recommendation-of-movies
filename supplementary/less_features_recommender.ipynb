{
 "cells": [
  {
   "attachments": {},
   "cell_type": "markdown",
   "metadata": {},
   "source": [
    "# Analysis of the dataset\n",
    "- dataset taken from https://www.kaggle.com/datasets/harshitshankhdhar/imdb-dataset-of-top-1000-movies-and-tv-shows"
   ]
  },
  {
   "cell_type": "code",
   "execution_count": 1,
   "metadata": {},
   "outputs": [],
   "source": [
    "import pandas as pd\n",
    "from sklearn.neighbors import NearestNeighbors\n",
    "import warnings\n",
    "from recommender import Recommender\n",
    "warnings.filterwarnings('ignore')"
   ]
  },
  {
   "cell_type": "code",
   "execution_count": 2,
   "metadata": {},
   "outputs": [
    {
     "data": {
      "text/html": [
       "<div>\n",
       "<style scoped>\n",
       "    .dataframe tbody tr th:only-of-type {\n",
       "        vertical-align: middle;\n",
       "    }\n",
       "\n",
       "    .dataframe tbody tr th {\n",
       "        vertical-align: top;\n",
       "    }\n",
       "\n",
       "    .dataframe thead th {\n",
       "        text-align: right;\n",
       "    }\n",
       "</style>\n",
       "<table border=\"1\" class=\"dataframe\">\n",
       "  <thead>\n",
       "    <tr style=\"text-align: right;\">\n",
       "      <th></th>\n",
       "      <th>Poster_Link</th>\n",
       "      <th>Series_Title</th>\n",
       "      <th>Released_Year</th>\n",
       "      <th>Certificate</th>\n",
       "      <th>Runtime</th>\n",
       "      <th>Genre</th>\n",
       "      <th>IMDB_Rating</th>\n",
       "      <th>Overview</th>\n",
       "      <th>Meta_score</th>\n",
       "      <th>Director</th>\n",
       "      <th>Star1</th>\n",
       "      <th>Star2</th>\n",
       "      <th>Star3</th>\n",
       "      <th>Star4</th>\n",
       "      <th>No_of_Votes</th>\n",
       "      <th>Gross</th>\n",
       "    </tr>\n",
       "  </thead>\n",
       "  <tbody>\n",
       "    <tr>\n",
       "      <th>0</th>\n",
       "      <td>https://m.media-amazon.com/images/M/MV5BMDFkYT...</td>\n",
       "      <td>The Shawshank Redemption</td>\n",
       "      <td>1994</td>\n",
       "      <td>A</td>\n",
       "      <td>142 min</td>\n",
       "      <td>Drama</td>\n",
       "      <td>9.3</td>\n",
       "      <td>Two imprisoned men bond over a number of years...</td>\n",
       "      <td>80.0</td>\n",
       "      <td>Frank Darabont</td>\n",
       "      <td>Tim Robbins</td>\n",
       "      <td>Morgan Freeman</td>\n",
       "      <td>Bob Gunton</td>\n",
       "      <td>William Sadler</td>\n",
       "      <td>2343110</td>\n",
       "      <td>28,341,469</td>\n",
       "    </tr>\n",
       "  </tbody>\n",
       "</table>\n",
       "</div>"
      ],
      "text/plain": [
       "                                         Poster_Link  \\\n",
       "0  https://m.media-amazon.com/images/M/MV5BMDFkYT...   \n",
       "\n",
       "               Series_Title Released_Year Certificate  Runtime  Genre  \\\n",
       "0  The Shawshank Redemption          1994           A  142 min  Drama   \n",
       "\n",
       "   IMDB_Rating                                           Overview  Meta_score  \\\n",
       "0          9.3  Two imprisoned men bond over a number of years...        80.0   \n",
       "\n",
       "         Director        Star1           Star2       Star3           Star4  \\\n",
       "0  Frank Darabont  Tim Robbins  Morgan Freeman  Bob Gunton  William Sadler   \n",
       "\n",
       "   No_of_Votes       Gross  \n",
       "0      2343110  28,341,469  "
      ]
     },
     "execution_count": 2,
     "metadata": {},
     "output_type": "execute_result"
    }
   ],
   "source": [
    "df = pd.read_csv('./../data/data.csv')\n",
    "df_original = df.copy()\n",
    "df.head(1)"
   ]
  },
  {
   "cell_type": "code",
   "execution_count": 3,
   "metadata": {},
   "outputs": [
    {
     "data": {
      "text/plain": [
       "Poster_Link       object\n",
       "Series_Title      object\n",
       "Released_Year     object\n",
       "Certificate       object\n",
       "Runtime           object\n",
       "Genre             object\n",
       "IMDB_Rating      float64\n",
       "Overview          object\n",
       "Meta_score       float64\n",
       "Director          object\n",
       "Star1             object\n",
       "Star2             object\n",
       "Star3             object\n",
       "Star4             object\n",
       "No_of_Votes        int64\n",
       "Gross             object\n",
       "dtype: object"
      ]
     },
     "execution_count": 3,
     "metadata": {},
     "output_type": "execute_result"
    }
   ],
   "source": [
    "# check dtypes\n",
    "df.dtypes"
   ]
  },
  {
   "cell_type": "code",
   "execution_count": 4,
   "metadata": {},
   "outputs": [],
   "source": [
    "# drop columns Poster_Link, Series_Title, Overview\n",
    "df.drop(['Poster_Link', 'Series_Title', 'Overview'], axis=1, inplace=True)"
   ]
  },
  {
   "cell_type": "code",
   "execution_count": 5,
   "metadata": {},
   "outputs": [
    {
     "data": {
      "text/plain": [
       "array(['1994', '1972', '2008', '1974', '1957', '2003', '1993', '2010',\n",
       "       '1999', '2001', '1966', '2002', '1990', '1980', '1975', '2020',\n",
       "       '2019', '2014', '1998', '1997', '1995', '1991', '1977', '1962',\n",
       "       '1954', '1946', '2011', '2006', '2000', '1988', '1985', '1968',\n",
       "       '1960', '1942', '1936', '1931', '2018', '2017', '2016', '2012',\n",
       "       '2009', '2007', '1984', '1981', '1979', '1971', '1963', '1964',\n",
       "       '1950', '1940', '2013', '2005', '2004', '1992', '1987', '1986',\n",
       "       '1983', '1976', '1973', '1965', '1959', '1958', '1952', '1948',\n",
       "       '1944', '1941', '1927', '1921', '2015', '1996', '1989', '1978',\n",
       "       '1961', '1955', '1953', '1925', '1924', '1982', '1967', '1951',\n",
       "       '1949', '1939', '1937', '1934', '1928', '1926', '1920', '1970',\n",
       "       '1969', '1956', '1947', '1945', '1930', '1938', '1935', '1933',\n",
       "       '1932', '1922', '1943', 'PG'], dtype=object)"
      ]
     },
     "execution_count": 5,
     "metadata": {},
     "output_type": "execute_result"
    }
   ],
   "source": [
    "# print all unique values in a Release_Year column\n",
    "df['Released_Year'].unique()"
   ]
  },
  {
   "cell_type": "code",
   "execution_count": 6,
   "metadata": {},
   "outputs": [
    {
     "data": {
      "text/html": [
       "<div>\n",
       "<style scoped>\n",
       "    .dataframe tbody tr th:only-of-type {\n",
       "        vertical-align: middle;\n",
       "    }\n",
       "\n",
       "    .dataframe tbody tr th {\n",
       "        vertical-align: top;\n",
       "    }\n",
       "\n",
       "    .dataframe thead th {\n",
       "        text-align: right;\n",
       "    }\n",
       "</style>\n",
       "<table border=\"1\" class=\"dataframe\">\n",
       "  <thead>\n",
       "    <tr style=\"text-align: right;\">\n",
       "      <th></th>\n",
       "      <th>Released_Year</th>\n",
       "      <th>Certificate</th>\n",
       "      <th>Runtime</th>\n",
       "      <th>Genre</th>\n",
       "      <th>IMDB_Rating</th>\n",
       "      <th>Meta_score</th>\n",
       "      <th>Director</th>\n",
       "      <th>Star1</th>\n",
       "      <th>Star2</th>\n",
       "      <th>Star3</th>\n",
       "      <th>Star4</th>\n",
       "      <th>No_of_Votes</th>\n",
       "      <th>Gross</th>\n",
       "    </tr>\n",
       "  </thead>\n",
       "  <tbody>\n",
       "    <tr>\n",
       "      <th>966</th>\n",
       "      <td>PG</td>\n",
       "      <td>U</td>\n",
       "      <td>140 min</td>\n",
       "      <td>Adventure, Drama, History</td>\n",
       "      <td>7.6</td>\n",
       "      <td>77.0</td>\n",
       "      <td>Ron Howard</td>\n",
       "      <td>Tom Hanks</td>\n",
       "      <td>Bill Paxton</td>\n",
       "      <td>Kevin Bacon</td>\n",
       "      <td>Gary Sinise</td>\n",
       "      <td>269197</td>\n",
       "      <td>173,837,933</td>\n",
       "    </tr>\n",
       "  </tbody>\n",
       "</table>\n",
       "</div>"
      ],
      "text/plain": [
       "    Released_Year Certificate  Runtime                      Genre  \\\n",
       "966            PG           U  140 min  Adventure, Drama, History   \n",
       "\n",
       "     IMDB_Rating  Meta_score    Director      Star1        Star2        Star3  \\\n",
       "966          7.6        77.0  Ron Howard  Tom Hanks  Bill Paxton  Kevin Bacon   \n",
       "\n",
       "           Star4  No_of_Votes        Gross  \n",
       "966  Gary Sinise       269197  173,837,933  "
      ]
     },
     "execution_count": 6,
     "metadata": {},
     "output_type": "execute_result"
    }
   ],
   "source": [
    "# print row where Released_Year is PG\n",
    "df[df['Released_Year'] == 'PG']"
   ]
  },
  {
   "cell_type": "code",
   "execution_count": 7,
   "metadata": {},
   "outputs": [],
   "source": [
    "# swap value PG with 1995\n",
    "df.loc[df['Released_Year'] == 'PG', 'Released_Year'] = 1995"
   ]
  },
  {
   "cell_type": "code",
   "execution_count": 8,
   "metadata": {},
   "outputs": [],
   "source": [
    "# convert Released_Year to int\n",
    "df['Released_Year'] = df['Released_Year'].astype(int)"
   ]
  },
  {
   "cell_type": "code",
   "execution_count": 9,
   "metadata": {},
   "outputs": [
    {
     "data": {
      "text/plain": [
       "<AxesSubplot: >"
      ]
     },
     "execution_count": 9,
     "metadata": {},
     "output_type": "execute_result"
    },
    {
     "data": {
      "image/png": "[encoded data removed]",
      "text/plain": [
       "<Figure size 640x480 with 1 Axes>"
      ]
     },
     "metadata": {},
     "output_type": "display_data"
    }
   ],
   "source": [
    "# plot histogram of Released_Year\n",
    "df['Released_Year'].hist()"
   ]
  },
  {
   "cell_type": "code",
   "execution_count": 10,
   "metadata": {},
   "outputs": [
    {
     "data": {
      "text/plain": [
       "U           234\n",
       "A           197\n",
       "UA          175\n",
       "R           146\n",
       "PG-13        43\n",
       "PG           37\n",
       "Passed       34\n",
       "G            12\n",
       "Approved     11\n",
       "TV-PG         3\n",
       "GP            2\n",
       "TV-14         1\n",
       "16            1\n",
       "TV-MA         1\n",
       "Unrated       1\n",
       "U/A           1\n",
       "Name: Certificate, dtype: int64"
      ]
     },
     "execution_count": 10,
     "metadata": {},
     "output_type": "execute_result"
    }
   ],
   "source": [
    "# print all unique values in a certificate column and their counts\n",
    "df['Certificate'].value_counts()"
   ]
  },
  {
   "cell_type": "code",
   "execution_count": 11,
   "metadata": {},
   "outputs": [],
   "source": [
    "# all unique values with count less than 2 are replaced with 'Other'\n",
    "df.loc[df['Certificate'].isin(df['Certificate'].value_counts()[df['Certificate'].value_counts() == 1].index), 'Certificate'] = 'Other'"
   ]
  },
  {
   "cell_type": "code",
   "execution_count": 12,
   "metadata": {},
   "outputs": [
    {
     "data": {
      "text/plain": [
       "U           234\n",
       "A           197\n",
       "UA          175\n",
       "R           146\n",
       "PG-13        43\n",
       "PG           37\n",
       "Passed       34\n",
       "G            12\n",
       "Approved     11\n",
       "Other         5\n",
       "TV-PG         3\n",
       "GP            2\n",
       "Name: Certificate, dtype: int64"
      ]
     },
     "execution_count": 12,
     "metadata": {},
     "output_type": "execute_result"
    }
   ],
   "source": [
    "# print all unique values in a certificate column and their counts\n",
    "df['Certificate'].value_counts()"
   ]
  },
  {
   "cell_type": "code",
   "execution_count": 13,
   "metadata": {},
   "outputs": [],
   "source": [
    "# make Certificate column categorical variable \n",
    "df['Certificate'] = df['Certificate'].astype('category')"
   ]
  },
  {
   "cell_type": "code",
   "execution_count": 14,
   "metadata": {},
   "outputs": [],
   "source": [
    "# one hot encode Certificate column\n",
    "df = pd.get_dummies(df, columns=['Certificate'])"
   ]
  },
  {
   "cell_type": "code",
   "execution_count": 15,
   "metadata": {},
   "outputs": [
    {
     "data": {
      "text/plain": [
       "(1000, 24)"
      ]
     },
     "execution_count": 15,
     "metadata": {},
     "output_type": "execute_result"
    }
   ],
   "source": [
    "df.shape"
   ]
  },
  {
   "cell_type": "code",
   "execution_count": 16,
   "metadata": {},
   "outputs": [
    {
     "data": {
      "text/plain": [
       "Drama                           85\n",
       "Drama, Romance                  37\n",
       "Comedy, Drama                   35\n",
       "Comedy, Drama, Romance          31\n",
       "Action, Crime, Drama            30\n",
       "Biography, Drama, History       28\n",
       "Crime, Drama, Thriller          28\n",
       "Crime, Drama, Mystery           27\n",
       "Crime, Drama                    26\n",
       "Animation, Adventure, Comedy    24\n",
       "Name: Genre, dtype: int64"
      ]
     },
     "execution_count": 16,
     "metadata": {},
     "output_type": "execute_result"
    }
   ],
   "source": [
    "# top 10 genres\n",
    "df['Genre'].value_counts().head(10)"
   ]
  },
  {
   "cell_type": "code",
   "execution_count": 17,
   "metadata": {},
   "outputs": [],
   "source": [
    "# convert Genre column to lowercase\n",
    "df['Genre'] = df['Genre'].str.lower()"
   ]
  },
  {
   "cell_type": "code",
   "execution_count": 18,
   "metadata": {},
   "outputs": [
    {
     "name": "stdout",
     "output_type": "stream",
     "text": [
      "21\n",
      "['comedy', 'crime', 'horror', 'drama', 'western', 'musical', 'action', 'history', 'biography', 'sci-fi', 'sport', 'thriller', 'romance', 'mystery', 'music', 'family', 'adventure', 'war', 'film-noir', 'fantasy', 'animation']\n"
     ]
    }
   ],
   "source": [
    "# looks that there are mixed genres get all genre keywords to list\n",
    "genres = df['Genre'].str.split(',').values.tolist()\n",
    "# flatten list\n",
    "genres = [item for sublist in genres for item in sublist]\n",
    "# remove whitespaces\n",
    "genres = [item.strip() for item in genres]\n",
    "# delete duplicates\n",
    "genres = list(set(genres))\n",
    "print(len(genres))\n",
    "print(genres)"
   ]
  },
  {
   "cell_type": "code",
   "execution_count": 19,
   "metadata": {},
   "outputs": [],
   "source": [
    "# create new columns for each genre and assign False to all rows\n",
    "for genre in genres:\n",
    "    df[genre] = False\n",
    "\n",
    "# assign True to those rows where genre is present\n",
    "for index, row in df.iterrows():\n",
    "    for genre in row['Genre'].split(','):\n",
    "        df.loc[index, genre.strip()] = True\n",
    "\n",
    "# drop column Genre\n",
    "df.drop(columns='Genre', inplace=True)"
   ]
  },
  {
   "cell_type": "code",
   "execution_count": 20,
   "metadata": {},
   "outputs": [
    {
     "data": {
      "text/plain": [
       "(1000, 44)"
      ]
     },
     "execution_count": 20,
     "metadata": {},
     "output_type": "execute_result"
    }
   ],
   "source": [
    "df.shape"
   ]
  },
  {
   "cell_type": "code",
   "execution_count": 21,
   "metadata": {},
   "outputs": [
    {
     "data": {
      "text/plain": [
       "Alfred Hitchcock     14\n",
       "Steven Spielberg     13\n",
       "Hayao Miyazaki       11\n",
       "Martin Scorsese      10\n",
       "Akira Kurosawa       10\n",
       "Stanley Kubrick       9\n",
       "Billy Wilder          9\n",
       "Woody Allen           9\n",
       "Christopher Nolan     8\n",
       "Quentin Tarantino     8\n",
       "David Fincher         8\n",
       "Clint Eastwood        8\n",
       "Rob Reiner            7\n",
       "Howard Hawks          7\n",
       "Ingmar Bergman        7\n",
       "Ridley Scott          6\n",
       "Alfonso Cuarón        6\n",
       "Charles Chaplin       6\n",
       "Richard Linklater     6\n",
       "Sergio Leone          6\n",
       "Name: Director, dtype: int64"
      ]
     },
     "execution_count": 21,
     "metadata": {},
     "output_type": "execute_result"
    }
   ],
   "source": [
    "# print most common Directors\n",
    "df['Director'].value_counts().head(20)"
   ]
  },
  {
   "cell_type": "code",
   "execution_count": 22,
   "metadata": {},
   "outputs": [
    {
     "name": "stdout",
     "output_type": "stream",
     "text": [
      "35\n"
     ]
    }
   ],
   "source": [
    "# count number of directors, that have at least 5 movies in the dataset\n",
    "common_directors = df['Director'].value_counts()[df['Director'].value_counts() >= 5].index\n",
    "print(len(common_directors))"
   ]
  },
  {
   "cell_type": "code",
   "execution_count": 23,
   "metadata": {},
   "outputs": [
    {
     "name": "stdout",
     "output_type": "stream",
     "text": [
      "Alfred Hitchcock\n",
      "Steven Spielberg\n",
      "Hayao Miyazaki\n",
      "Martin Scorsese\n",
      "Akira Kurosawa\n",
      "Stanley Kubrick\n",
      "Billy Wilder\n",
      "Woody Allen\n",
      "Christopher Nolan\n",
      "Quentin Tarantino\n",
      "David Fincher\n",
      "Clint Eastwood\n",
      "Rob Reiner\n",
      "Howard Hawks\n",
      "Ingmar Bergman\n",
      "Ridley Scott\n",
      "Alfonso Cuarón\n",
      "Charles Chaplin\n",
      "Richard Linklater\n",
      "Sergio Leone\n",
      "Joel Coen\n",
      "Wes Anderson\n",
      "David Lynch\n",
      "Sidney Lumet\n",
      "Denis Villeneuve\n",
      "Peter Jackson\n",
      "Robert Zemeckis\n",
      "James Cameron\n",
      "Francis Ford Coppola\n",
      "Roman Polanski\n",
      "Ron Howard\n",
      "John Ford\n",
      "Andrei Tarkovsky\n",
      "John Huston\n",
      "Federico Fellini\n"
     ]
    }
   ],
   "source": [
    "# create new columns for all directors with at least 5 movies\n",
    "for director in common_directors:\n",
    "    print(director)\n",
    "    df[director] = False\n",
    "\n",
    "# assign True to those rows where director is present\n",
    "for index, row in df.iterrows():\n",
    "    for director in row['Director'].split(','):\n",
    "        director = director.strip()\n",
    "        if director in common_directors:\n",
    "            df.loc[index, director] = True\n",
    "\n",
    "# drop column Director\n",
    "df.drop(columns='Director', inplace=True)"
   ]
  },
  {
   "cell_type": "code",
   "execution_count": 24,
   "metadata": {},
   "outputs": [
    {
     "data": {
      "text/plain": [
       "(1000, 78)"
      ]
     },
     "execution_count": 24,
     "metadata": {},
     "output_type": "execute_result"
    }
   ],
   "source": [
    "df.shape"
   ]
  },
  {
   "cell_type": "code",
   "execution_count": 25,
   "metadata": {},
   "outputs": [
    {
     "data": {
      "text/plain": [
       "Robert De Niro        17\n",
       "Tom Hanks             14\n",
       "Al Pacino             13\n",
       "Clint Eastwood        12\n",
       "Brad Pitt             12\n",
       "Leonardo DiCaprio     11\n",
       "Matt Damon            11\n",
       "Christian Bale        11\n",
       "James Stewart         10\n",
       "Ethan Hawke            9\n",
       "Scarlett Johansson     9\n",
       "Michael Caine          9\n",
       "Johnny Depp            9\n",
       "Humphrey Bogart        9\n",
       "Denzel Washington      9\n",
       "Aamir Khan             8\n",
       "Harrison Ford          8\n",
       "Edward Norton          7\n",
       "Ian McKellen           7\n",
       "Robert Downey Jr.      7\n",
       "dtype: int64"
      ]
     },
     "execution_count": 25,
     "metadata": {},
     "output_type": "execute_result"
    }
   ],
   "source": [
    "# print most common Stars from columns Star1, Star2, Star3, Star4 use pandas concat\n",
    "all_stars = pd.concat([df['Star1'], df['Star2'], df['Star3'], df['Star4']])\n",
    "all_stars.value_counts().head(20)"
   ]
  },
  {
   "cell_type": "code",
   "execution_count": 26,
   "metadata": {},
   "outputs": [
    {
     "name": "stdout",
     "output_type": "stream",
     "text": [
      "30\n"
     ]
    }
   ],
   "source": [
    "# count all stars that have at least 5 movies in the dataset\n",
    "common_stars = all_stars.value_counts()[all_stars.value_counts() >= 7].index\n",
    "print(len(common_stars))"
   ]
  },
  {
   "cell_type": "code",
   "execution_count": 27,
   "metadata": {},
   "outputs": [],
   "source": [
    "# create new columns for all stars with at least 7 movies\n",
    "for star in common_stars:\n",
    "    # create new column and assign False to all rows\n",
    "    df[star] = False\n",
    "\n",
    "# assign True to those rows where star is present\n",
    "for index, row in df.iterrows():\n",
    "    for star in [row['Star1'], row['Star2'], row['Star3'], row['Star4']]:\n",
    "        star = star.strip()\n",
    "        if star in common_stars:\n",
    "            df.loc[index, star] = True\n",
    "\n",
    "# drop columns Star1, Star2, Star3, Star4\n",
    "df.drop(columns=['Star1', 'Star2', 'Star3', 'Star4'], inplace=True)"
   ]
  },
  {
   "cell_type": "code",
   "execution_count": 28,
   "metadata": {},
   "outputs": [
    {
     "data": {
      "text/plain": [
       "100 min    23\n",
       "130 min    23\n",
       "129 min    22\n",
       "101 min    22\n",
       "113 min    22\n",
       "Name: Runtime, dtype: int64"
      ]
     },
     "execution_count": 28,
     "metadata": {},
     "output_type": "execute_result"
    }
   ],
   "source": [
    "# print 5 most common runtime values\n",
    "df['Runtime'].value_counts().head(5)"
   ]
  },
  {
   "cell_type": "code",
   "execution_count": 29,
   "metadata": {},
   "outputs": [],
   "source": [
    "# delete mins from runtime values\n",
    "df['Runtime'] = df['Runtime'].str.replace('min', '')"
   ]
  },
  {
   "cell_type": "code",
   "execution_count": 30,
   "metadata": {},
   "outputs": [],
   "source": [
    "# convert runtime values to int\n",
    "df['Runtime'] = df['Runtime'].astype(int)"
   ]
  },
  {
   "cell_type": "code",
   "execution_count": 31,
   "metadata": {},
   "outputs": [
    {
     "data": {
      "text/plain": [
       "<AxesSubplot: ylabel='Frequency'>"
      ]
     },
     "execution_count": 31,
     "metadata": {},
     "output_type": "execute_result"
    },
    {
     "data": {
      "image/png": "[encoded data removed]",
      "text/plain": [
       "<Figure size 640x480 with 1 Axes>"
      ]
     },
     "metadata": {},
     "output_type": "display_data"
    }
   ],
   "source": [
    "# plot histogram of runtime values\n",
    "df['Runtime'].plot(kind='hist', bins=20)"
   ]
  },
  {
   "cell_type": "code",
   "execution_count": 32,
   "metadata": {},
   "outputs": [
    {
     "data": {
      "text/plain": [
       "4,360,000      5\n",
       "25,000,000     2\n",
       "5,450,000      2\n",
       "5,321,508      2\n",
       "9,600,000      2\n",
       "              ..\n",
       "106,662        1\n",
       "10,950         1\n",
       "4,018,695      1\n",
       "141,319,928    1\n",
       "30,500,000     1\n",
       "Name: Gross, Length: 823, dtype: int64"
      ]
     },
     "execution_count": 32,
     "metadata": {},
     "output_type": "execute_result"
    }
   ],
   "source": [
    "# print all unique values in a Gross column and their counts\n",
    "df['Gross'].value_counts()"
   ]
  },
  {
   "cell_type": "code",
   "execution_count": 33,
   "metadata": {},
   "outputs": [
    {
     "data": {
      "text/plain": [
       "169"
      ]
     },
     "execution_count": 33,
     "metadata": {},
     "output_type": "execute_result"
    }
   ],
   "source": [
    "# count NaN values in Gross column\n",
    "df['Gross'].isna().sum()"
   ]
  },
  {
   "cell_type": "code",
   "execution_count": 34,
   "metadata": {},
   "outputs": [],
   "source": [
    "# convert Gross values to int, replace ',' with ''\n",
    "df['Gross'] = df['Gross'].str.replace(',', '')\n",
    "# replace Nan values with 0\n",
    "df['Gross'] = df['Gross'].fillna(0)\n",
    "df['Gross'] = df['Gross'].astype(int)"
   ]
  },
  {
   "cell_type": "code",
   "execution_count": 35,
   "metadata": {},
   "outputs": [
    {
     "data": {
      "text/plain": [
       "<AxesSubplot: ylabel='Frequency'>"
      ]
     },
     "execution_count": 35,
     "metadata": {},
     "output_type": "execute_result"
    },
    {
     "data": {
      "image/png": "[encoded data removed]",
      "text/plain": [
       "<Figure size 640x480 with 1 Axes>"
      ]
     },
     "metadata": {},
     "output_type": "display_data"
    }
   ],
   "source": [
    "# plot histogram of Gross values\n",
    "df['Gross'].plot(kind='hist', bins=20)"
   ]
  },
  {
   "attachments": {},
   "cell_type": "markdown",
   "metadata": {},
   "source": [
    "## features prep done\n",
    "- check"
   ]
  },
  {
   "cell_type": "code",
   "execution_count": 36,
   "metadata": {},
   "outputs": [
    {
     "name": "stdout",
     "output_type": "stream",
     "text": [
      "Meta_score    157\n",
      "dtype: int64\n"
     ]
    }
   ],
   "source": [
    "# print columns with nan values and their counts, only columns with nan values are printed\n",
    "na_columns = df.isna().sum()[df.isna().sum() > 0]\n",
    "print(na_columns)\n",
    "# aplply mean imputation to all columns with nan values\n",
    "df[na_columns.index] = df[na_columns.index].fillna(df[na_columns.index].mean())"
   ]
  },
  {
   "cell_type": "code",
   "execution_count": 37,
   "metadata": {},
   "outputs": [],
   "source": [
    "# check if number of object columns is 0\n",
    "assert df.select_dtypes(include=['object']).shape[1] == 0\n",
    "# check for any NaN values\n",
    "assert df.isna().sum().sum() == 0"
   ]
  },
  {
   "cell_type": "code",
   "execution_count": 38,
   "metadata": {},
   "outputs": [],
   "source": [
    "# apply standardization to all columns with values greater than 1\n",
    "for column in df.columns:\n",
    "    if df[column].max() > 1:\n",
    "        df[column] = (df[column] - df[column].mean()) / df[column].std()"
   ]
  },
  {
   "cell_type": "code",
   "execution_count": 39,
   "metadata": {},
   "outputs": [
    {
     "data": {
      "text/html": [
       "<div>\n",
       "<style scoped>\n",
       "    .dataframe tbody tr th:only-of-type {\n",
       "        vertical-align: middle;\n",
       "    }\n",
       "\n",
       "    .dataframe tbody tr th {\n",
       "        vertical-align: top;\n",
       "    }\n",
       "\n",
       "    .dataframe thead th {\n",
       "        text-align: right;\n",
       "    }\n",
       "</style>\n",
       "<table border=\"1\" class=\"dataframe\">\n",
       "  <thead>\n",
       "    <tr style=\"text-align: right;\">\n",
       "      <th></th>\n",
       "      <th>Released_Year</th>\n",
       "      <th>Runtime</th>\n",
       "      <th>IMDB_Rating</th>\n",
       "      <th>Meta_score</th>\n",
       "      <th>No_of_Votes</th>\n",
       "      <th>Gross</th>\n",
       "      <th>Certificate_A</th>\n",
       "      <th>Certificate_Approved</th>\n",
       "      <th>Certificate_G</th>\n",
       "      <th>Certificate_GP</th>\n",
       "      <th>...</th>\n",
       "      <th>Emma Watson</th>\n",
       "      <th>Tom Cruise</th>\n",
       "      <th>Jake Gyllenhaal</th>\n",
       "      <th>Cary Grant</th>\n",
       "      <th>Mark Ruffalo</th>\n",
       "      <th>Russell Crowe</th>\n",
       "      <th>Bruce Willis</th>\n",
       "      <th>Toshirô Mifune</th>\n",
       "      <th>Morgan Freeman</th>\n",
       "      <th>Jeff Bridges</th>\n",
       "    </tr>\n",
       "  </thead>\n",
       "  <tbody>\n",
       "    <tr>\n",
       "      <th>0</th>\n",
       "      <td>0.119344</td>\n",
       "      <td>0.680189</td>\n",
       "      <td>4.902879</td>\n",
       "      <td>0.17853</td>\n",
       "      <td>6.321288</td>\n",
       "      <td>-0.27311</td>\n",
       "      <td>1</td>\n",
       "      <td>0</td>\n",
       "      <td>0</td>\n",
       "      <td>0</td>\n",
       "      <td>...</td>\n",
       "      <td>False</td>\n",
       "      <td>False</td>\n",
       "      <td>False</td>\n",
       "      <td>False</td>\n",
       "      <td>False</td>\n",
       "      <td>False</td>\n",
       "      <td>False</td>\n",
       "      <td>False</td>\n",
       "      <td>True</td>\n",
       "      <td>False</td>\n",
       "    </tr>\n",
       "  </tbody>\n",
       "</table>\n",
       "<p>1 rows × 103 columns</p>\n",
       "</div>"
      ],
      "text/plain": [
       "   Released_Year   Runtime  IMDB_Rating  Meta_score  No_of_Votes    Gross  \\\n",
       "0       0.119344  0.680189     4.902879     0.17853     6.321288 -0.27311   \n",
       "\n",
       "   Certificate_A  Certificate_Approved  Certificate_G  Certificate_GP  ...  \\\n",
       "0              1                     0              0               0  ...   \n",
       "\n",
       "   Emma Watson  Tom Cruise  Jake Gyllenhaal  Cary Grant  Mark Ruffalo  \\\n",
       "0        False       False            False       False         False   \n",
       "\n",
       "   Russell Crowe  Bruce Willis  Toshirô Mifune  Morgan Freeman  Jeff Bridges  \n",
       "0          False         False           False            True         False  \n",
       "\n",
       "[1 rows x 103 columns]"
      ]
     },
     "execution_count": 39,
     "metadata": {},
     "output_type": "execute_result"
    }
   ],
   "source": [
    "df.head(1)"
   ]
  },
  {
   "cell_type": "code",
   "execution_count": 40,
   "metadata": {},
   "outputs": [
    {
     "data": {
      "text/html": [
       "<div>\n",
       "<style scoped>\n",
       "    .dataframe tbody tr th:only-of-type {\n",
       "        vertical-align: middle;\n",
       "    }\n",
       "\n",
       "    .dataframe tbody tr th {\n",
       "        vertical-align: top;\n",
       "    }\n",
       "\n",
       "    .dataframe thead th {\n",
       "        text-align: right;\n",
       "    }\n",
       "</style>\n",
       "<table border=\"1\" class=\"dataframe\">\n",
       "  <thead>\n",
       "    <tr style=\"text-align: right;\">\n",
       "      <th></th>\n",
       "      <th>Released_Year</th>\n",
       "      <th>Runtime</th>\n",
       "      <th>IMDB_Rating</th>\n",
       "      <th>Meta_score</th>\n",
       "      <th>No_of_Votes</th>\n",
       "      <th>Gross</th>\n",
       "      <th>Certificate_A</th>\n",
       "      <th>Certificate_Approved</th>\n",
       "      <th>Certificate_G</th>\n",
       "      <th>Certificate_GP</th>\n",
       "      <th>Certificate_Other</th>\n",
       "      <th>Certificate_PG</th>\n",
       "      <th>Certificate_PG-13</th>\n",
       "      <th>Certificate_Passed</th>\n",
       "      <th>Certificate_R</th>\n",
       "      <th>Certificate_TV-PG</th>\n",
       "      <th>Certificate_U</th>\n",
       "      <th>Certificate_UA</th>\n",
       "    </tr>\n",
       "  </thead>\n",
       "  <tbody>\n",
       "    <tr>\n",
       "      <th>count</th>\n",
       "      <td>1.000000e+03</td>\n",
       "      <td>1.000000e+03</td>\n",
       "      <td>1.000000e+03</td>\n",
       "      <td>1.000000e+03</td>\n",
       "      <td>1.000000e+03</td>\n",
       "      <td>1.000000e+03</td>\n",
       "      <td>1000.000000</td>\n",
       "      <td>1000.000000</td>\n",
       "      <td>1000.00000</td>\n",
       "      <td>1000.000000</td>\n",
       "      <td>1000.000000</td>\n",
       "      <td>1000.000000</td>\n",
       "      <td>1000.000000</td>\n",
       "      <td>1000.00000</td>\n",
       "      <td>1000.000000</td>\n",
       "      <td>1000.000000</td>\n",
       "      <td>1000.000000</td>\n",
       "      <td>1000.000000</td>\n",
       "    </tr>\n",
       "    <tr>\n",
       "      <th>mean</th>\n",
       "      <td>-1.634248e-16</td>\n",
       "      <td>-1.705303e-16</td>\n",
       "      <td>3.012701e-15</td>\n",
       "      <td>-9.094947e-16</td>\n",
       "      <td>-5.684342e-17</td>\n",
       "      <td>-5.151435e-17</td>\n",
       "      <td>0.197000</td>\n",
       "      <td>0.011000</td>\n",
       "      <td>0.01200</td>\n",
       "      <td>0.002000</td>\n",
       "      <td>0.005000</td>\n",
       "      <td>0.037000</td>\n",
       "      <td>0.043000</td>\n",
       "      <td>0.03400</td>\n",
       "      <td>0.146000</td>\n",
       "      <td>0.003000</td>\n",
       "      <td>0.234000</td>\n",
       "      <td>0.175000</td>\n",
       "    </tr>\n",
       "    <tr>\n",
       "      <th>std</th>\n",
       "      <td>1.000000e+00</td>\n",
       "      <td>1.000000e+00</td>\n",
       "      <td>1.000000e+00</td>\n",
       "      <td>1.000000e+00</td>\n",
       "      <td>1.000000e+00</td>\n",
       "      <td>1.000000e+00</td>\n",
       "      <td>0.397931</td>\n",
       "      <td>0.104355</td>\n",
       "      <td>0.10894</td>\n",
       "      <td>0.044699</td>\n",
       "      <td>0.070569</td>\n",
       "      <td>0.188856</td>\n",
       "      <td>0.202959</td>\n",
       "      <td>0.18132</td>\n",
       "      <td>0.353283</td>\n",
       "      <td>0.054717</td>\n",
       "      <td>0.423584</td>\n",
       "      <td>0.380157</td>\n",
       "    </tr>\n",
       "    <tr>\n",
       "      <th>min</th>\n",
       "      <td>-3.058576e+00</td>\n",
       "      <td>-2.772546e+00</td>\n",
       "      <td>-1.267917e+00</td>\n",
       "      <td>-4.398105e+00</td>\n",
       "      <td>-7.593941e-01</td>\n",
       "      <td>-5.476354e-01</td>\n",
       "      <td>0.000000</td>\n",
       "      <td>0.000000</td>\n",
       "      <td>0.00000</td>\n",
       "      <td>0.000000</td>\n",
       "      <td>0.000000</td>\n",
       "      <td>0.000000</td>\n",
       "      <td>0.000000</td>\n",
       "      <td>0.00000</td>\n",
       "      <td>0.000000</td>\n",
       "      <td>0.000000</td>\n",
       "      <td>0.000000</td>\n",
       "      <td>0.000000</td>\n",
       "    </tr>\n",
       "    <tr>\n",
       "      <th>25%</th>\n",
       "      <td>-6.536638e-01</td>\n",
       "      <td>-7.080242e-01</td>\n",
       "      <td>-9.049291e-01</td>\n",
       "      <td>-5.255676e-01</td>\n",
       "      <td>-6.664168e-01</td>\n",
       "      <td>-5.433181e-01</td>\n",
       "      <td>0.000000</td>\n",
       "      <td>0.000000</td>\n",
       "      <td>0.00000</td>\n",
       "      <td>0.000000</td>\n",
       "      <td>0.000000</td>\n",
       "      <td>0.000000</td>\n",
       "      <td>0.000000</td>\n",
       "      <td>0.00000</td>\n",
       "      <td>0.000000</td>\n",
       "      <td>0.000000</td>\n",
       "      <td>0.000000</td>\n",
       "      <td>0.000000</td>\n",
       "    </tr>\n",
       "    <tr>\n",
       "      <th>50%</th>\n",
       "      <td>3.340681e-01</td>\n",
       "      <td>-1.385009e-01</td>\n",
       "      <td>-1.789531e-01</td>\n",
       "      <td>-1.250729e-15</td>\n",
       "      <td>-4.128151e-01</td>\n",
       "      <td>-4.439649e-01</td>\n",
       "      <td>0.000000</td>\n",
       "      <td>0.000000</td>\n",
       "      <td>0.00000</td>\n",
       "      <td>0.000000</td>\n",
       "      <td>0.000000</td>\n",
       "      <td>0.000000</td>\n",
       "      <td>0.000000</td>\n",
       "      <td>0.00000</td>\n",
       "      <td>0.000000</td>\n",
       "      <td>0.000000</td>\n",
       "      <td>0.000000</td>\n",
       "      <td>0.000000</td>\n",
       "    </tr>\n",
       "    <tr>\n",
       "      <th>75%</th>\n",
       "      <td>7.635168e-01</td>\n",
       "      <td>5.022128e-01</td>\n",
       "      <td>5.470229e-01</td>\n",
       "      <td>6.405942e-01</td>\n",
       "      <td>3.068928e-01</td>\n",
       "      <td>4.846088e-02</td>\n",
       "      <td>0.000000</td>\n",
       "      <td>0.000000</td>\n",
       "      <td>0.00000</td>\n",
       "      <td>0.000000</td>\n",
       "      <td>0.000000</td>\n",
       "      <td>0.000000</td>\n",
       "      <td>0.000000</td>\n",
       "      <td>0.00000</td>\n",
       "      <td>0.000000</td>\n",
       "      <td>0.000000</td>\n",
       "      <td>0.000000</td>\n",
       "      <td>0.000000</td>\n",
       "    </tr>\n",
       "    <tr>\n",
       "      <th>max</th>\n",
       "      <td>1.235910e+00</td>\n",
       "      <td>7.051731e+00</td>\n",
       "      <td>4.902879e+00</td>\n",
       "      <td>1.938774e+00</td>\n",
       "      <td>6.321288e+00</td>\n",
       "      <td>8.525192e+00</td>\n",
       "      <td>1.000000</td>\n",
       "      <td>1.000000</td>\n",
       "      <td>1.00000</td>\n",
       "      <td>1.000000</td>\n",
       "      <td>1.000000</td>\n",
       "      <td>1.000000</td>\n",
       "      <td>1.000000</td>\n",
       "      <td>1.00000</td>\n",
       "      <td>1.000000</td>\n",
       "      <td>1.000000</td>\n",
       "      <td>1.000000</td>\n",
       "      <td>1.000000</td>\n",
       "    </tr>\n",
       "  </tbody>\n",
       "</table>\n",
       "</div>"
      ],
      "text/plain": [
       "       Released_Year       Runtime   IMDB_Rating    Meta_score   No_of_Votes  \\\n",
       "count   1.000000e+03  1.000000e+03  1.000000e+03  1.000000e+03  1.000000e+03   \n",
       "mean   -1.634248e-16 -1.705303e-16  3.012701e-15 -9.094947e-16 -5.684342e-17   \n",
       "std     1.000000e+00  1.000000e+00  1.000000e+00  1.000000e+00  1.000000e+00   \n",
       "min    -3.058576e+00 -2.772546e+00 -1.267917e+00 -4.398105e+00 -7.593941e-01   \n",
       "25%    -6.536638e-01 -7.080242e-01 -9.049291e-01 -5.255676e-01 -6.664168e-01   \n",
       "50%     3.340681e-01 -1.385009e-01 -1.789531e-01 -1.250729e-15 -4.128151e-01   \n",
       "75%     7.635168e-01  5.022128e-01  5.470229e-01  6.405942e-01  3.068928e-01   \n",
       "max     1.235910e+00  7.051731e+00  4.902879e+00  1.938774e+00  6.321288e+00   \n",
       "\n",
       "              Gross  Certificate_A  Certificate_Approved  Certificate_G  \\\n",
       "count  1.000000e+03    1000.000000           1000.000000     1000.00000   \n",
       "mean  -5.151435e-17       0.197000              0.011000        0.01200   \n",
       "std    1.000000e+00       0.397931              0.104355        0.10894   \n",
       "min   -5.476354e-01       0.000000              0.000000        0.00000   \n",
       "25%   -5.433181e-01       0.000000              0.000000        0.00000   \n",
       "50%   -4.439649e-01       0.000000              0.000000        0.00000   \n",
       "75%    4.846088e-02       0.000000              0.000000        0.00000   \n",
       "max    8.525192e+00       1.000000              1.000000        1.00000   \n",
       "\n",
       "       Certificate_GP  Certificate_Other  Certificate_PG  Certificate_PG-13  \\\n",
       "count     1000.000000        1000.000000     1000.000000        1000.000000   \n",
       "mean         0.002000           0.005000        0.037000           0.043000   \n",
       "std          0.044699           0.070569        0.188856           0.202959   \n",
       "min          0.000000           0.000000        0.000000           0.000000   \n",
       "25%          0.000000           0.000000        0.000000           0.000000   \n",
       "50%          0.000000           0.000000        0.000000           0.000000   \n",
       "75%          0.000000           0.000000        0.000000           0.000000   \n",
       "max          1.000000           1.000000        1.000000           1.000000   \n",
       "\n",
       "       Certificate_Passed  Certificate_R  Certificate_TV-PG  Certificate_U  \\\n",
       "count          1000.00000    1000.000000        1000.000000    1000.000000   \n",
       "mean              0.03400       0.146000           0.003000       0.234000   \n",
       "std               0.18132       0.353283           0.054717       0.423584   \n",
       "min               0.00000       0.000000           0.000000       0.000000   \n",
       "25%               0.00000       0.000000           0.000000       0.000000   \n",
       "50%               0.00000       0.000000           0.000000       0.000000   \n",
       "75%               0.00000       0.000000           0.000000       0.000000   \n",
       "max               1.00000       1.000000           1.000000       1.000000   \n",
       "\n",
       "       Certificate_UA  \n",
       "count     1000.000000  \n",
       "mean         0.175000  \n",
       "std          0.380157  \n",
       "min          0.000000  \n",
       "25%          0.000000  \n",
       "50%          0.000000  \n",
       "75%          0.000000  \n",
       "max          1.000000  "
      ]
     },
     "execution_count": 40,
     "metadata": {},
     "output_type": "execute_result"
    }
   ],
   "source": [
    "df.describe()"
   ]
  },
  {
   "cell_type": "code",
   "execution_count": 41,
   "metadata": {},
   "outputs": [
    {
     "name": "stdout",
     "output_type": "stream",
     "text": [
      "<class 'pandas.core.frame.DataFrame'>\n",
      "RangeIndex: 1000 entries, 0 to 999\n",
      "Columns: 103 entries, Released_Year to Jeff Bridges\n",
      "dtypes: bool(85), float64(6), uint8(12)\n",
      "memory usage: 141.7 KB\n"
     ]
    }
   ],
   "source": [
    "df.info()"
   ]
  },
  {
   "attachments": {},
   "cell_type": "markdown",
   "metadata": {},
   "source": [
    "## Visualization"
   ]
  },
  {
   "cell_type": "code",
   "execution_count": 42,
   "metadata": {},
   "outputs": [
    {
     "data": {
      "image/png": "[encoded data removed]",
      "text/plain": [
       "<Figure size 640x480 with 1 Axes>"
      ]
     },
     "metadata": {},
     "output_type": "display_data"
    }
   ],
   "source": [
    "# visualize using PCA\n",
    "from sklearn.decomposition import PCA\n",
    "import matplotlib.pyplot as plt\n",
    "import seaborn as sns\n",
    "\n",
    "# create PCA instance\n",
    "pca = PCA(n_components=2)\n",
    "\n",
    "# fit PCA on the data\n",
    "pca.fit(df)\n",
    "\n",
    "# transform data\n",
    "df_pca = pca.transform(df)\n",
    "\n",
    "# create a scatter plot of the transformed data\n",
    "plt.scatter(df_pca[:, 0], df_pca[:, 1], alpha=0.2)\n",
    "plt.xlabel('PC1')\n",
    "plt.ylabel('PC2')\n",
    "plt.show()"
   ]
  },
  {
   "cell_type": "code",
   "execution_count": 43,
   "metadata": {},
   "outputs": [],
   "source": [
    "# # apply dimensionality reduction using PCA to reduce number of features\n",
    "# pca = PCA(n_components=60)\n",
    "# pca.fit(df)\n",
    "# df_pca = pca.transform(df)\n",
    "# # convert to dataframe\n",
    "# df = pd.DataFrame(df_pca)"
   ]
  },
  {
   "cell_type": "code",
   "execution_count": 44,
   "metadata": {},
   "outputs": [
    {
     "data": {
      "text/html": [
       "<div>\n",
       "<style scoped>\n",
       "    .dataframe tbody tr th:only-of-type {\n",
       "        vertical-align: middle;\n",
       "    }\n",
       "\n",
       "    .dataframe tbody tr th {\n",
       "        vertical-align: top;\n",
       "    }\n",
       "\n",
       "    .dataframe thead th {\n",
       "        text-align: right;\n",
       "    }\n",
       "</style>\n",
       "<table border=\"1\" class=\"dataframe\">\n",
       "  <thead>\n",
       "    <tr style=\"text-align: right;\">\n",
       "      <th></th>\n",
       "      <th>movie</th>\n",
       "      <th>distance</th>\n",
       "    </tr>\n",
       "  </thead>\n",
       "  <tbody>\n",
       "    <tr>\n",
       "      <th>0</th>\n",
       "      <td>The Lord of the Rings: The Return of the King</td>\n",
       "      <td>1.099009</td>\n",
       "    </tr>\n",
       "    <tr>\n",
       "      <th>1</th>\n",
       "      <td>The Lord of the Rings: The Two Towers</td>\n",
       "      <td>1.638824</td>\n",
       "    </tr>\n",
       "    <tr>\n",
       "      <th>2</th>\n",
       "      <td>The Godfather: Part II</td>\n",
       "      <td>2.458201</td>\n",
       "    </tr>\n",
       "    <tr>\n",
       "      <th>3</th>\n",
       "      <td>Pulp Fiction</td>\n",
       "      <td>2.716605</td>\n",
       "    </tr>\n",
       "    <tr>\n",
       "      <th>4</th>\n",
       "      <td>Schindler's List</td>\n",
       "      <td>3.235023</td>\n",
       "    </tr>\n",
       "    <tr>\n",
       "      <th>5</th>\n",
       "      <td>Forrest Gump</td>\n",
       "      <td>3.425054</td>\n",
       "    </tr>\n",
       "    <tr>\n",
       "      <th>6</th>\n",
       "      <td>Interstellar</td>\n",
       "      <td>3.490620</td>\n",
       "    </tr>\n",
       "    <tr>\n",
       "      <th>7</th>\n",
       "      <td>The Dark Knight Rises</td>\n",
       "      <td>3.597778</td>\n",
       "    </tr>\n",
       "    <tr>\n",
       "      <th>8</th>\n",
       "      <td>Saving Private Ryan</td>\n",
       "      <td>3.642032</td>\n",
       "    </tr>\n",
       "    <tr>\n",
       "      <th>9</th>\n",
       "      <td>Inception</td>\n",
       "      <td>3.658369</td>\n",
       "    </tr>\n",
       "    <tr>\n",
       "      <th>10</th>\n",
       "      <td>Goodfellas</td>\n",
       "      <td>3.849089</td>\n",
       "    </tr>\n",
       "    <tr>\n",
       "      <th>11</th>\n",
       "      <td>The Silence of the Lambs</td>\n",
       "      <td>3.926114</td>\n",
       "    </tr>\n",
       "    <tr>\n",
       "      <th>12</th>\n",
       "      <td>One Flew Over the Cuckoo's Nest</td>\n",
       "      <td>3.928820</td>\n",
       "    </tr>\n",
       "    <tr>\n",
       "      <th>13</th>\n",
       "      <td>The Shawshank Redemption</td>\n",
       "      <td>3.929794</td>\n",
       "    </tr>\n",
       "  </tbody>\n",
       "</table>\n",
       "</div>"
      ],
      "text/plain": [
       "                                            movie  distance\n",
       "0   The Lord of the Rings: The Return of the King  1.099009\n",
       "1           The Lord of the Rings: The Two Towers  1.638824\n",
       "2                          The Godfather: Part II  2.458201\n",
       "3                                    Pulp Fiction  2.716605\n",
       "4                                Schindler's List  3.235023\n",
       "5                                    Forrest Gump  3.425054\n",
       "6                                    Interstellar  3.490620\n",
       "7                           The Dark Knight Rises  3.597778\n",
       "8                             Saving Private Ryan  3.642032\n",
       "9                                       Inception  3.658369\n",
       "10                                     Goodfellas  3.849089\n",
       "11                       The Silence of the Lambs  3.926114\n",
       "12                One Flew Over the Cuckoo's Nest  3.928820\n",
       "13                       The Shawshank Redemption  3.929794"
      ]
     },
     "execution_count": 44,
     "metadata": {},
     "output_type": "execute_result"
    }
   ],
   "source": [
    "movies = ['The Godfather', 'The Lord of the Rings: The Fellowship of the Ring']\n",
    "recommender = Recommender(df, df_original, metric='euclidean')\n",
    "for movie in movies:\n",
    "    recommender.add_movie(movie)\n",
    "recommender.recommend()"
   ]
  },
  {
   "cell_type": "code",
   "execution_count": 45,
   "metadata": {},
   "outputs": [
    {
     "data": {
      "text/html": [
       "<div>\n",
       "<style scoped>\n",
       "    .dataframe tbody tr th:only-of-type {\n",
       "        vertical-align: middle;\n",
       "    }\n",
       "\n",
       "    .dataframe tbody tr th {\n",
       "        vertical-align: top;\n",
       "    }\n",
       "\n",
       "    .dataframe thead th {\n",
       "        text-align: right;\n",
       "    }\n",
       "</style>\n",
       "<table border=\"1\" class=\"dataframe\">\n",
       "  <thead>\n",
       "    <tr style=\"text-align: right;\">\n",
       "      <th></th>\n",
       "      <th>movie</th>\n",
       "      <th>distance</th>\n",
       "    </tr>\n",
       "  </thead>\n",
       "  <tbody>\n",
       "    <tr>\n",
       "      <th>0</th>\n",
       "      <td>Up</td>\n",
       "      <td>0.987513</td>\n",
       "    </tr>\n",
       "    <tr>\n",
       "      <th>1</th>\n",
       "      <td>Inside Out</td>\n",
       "      <td>1.230338</td>\n",
       "    </tr>\n",
       "    <tr>\n",
       "      <th>2</th>\n",
       "      <td>Toy Story 3</td>\n",
       "      <td>1.311447</td>\n",
       "    </tr>\n",
       "    <tr>\n",
       "      <th>3</th>\n",
       "      <td>Monsters, Inc.</td>\n",
       "      <td>1.403269</td>\n",
       "    </tr>\n",
       "    <tr>\n",
       "      <th>4</th>\n",
       "      <td>Shrek</td>\n",
       "      <td>1.962566</td>\n",
       "    </tr>\n",
       "    <tr>\n",
       "      <th>5</th>\n",
       "      <td>Zootopia</td>\n",
       "      <td>2.065362</td>\n",
       "    </tr>\n",
       "    <tr>\n",
       "      <th>6</th>\n",
       "      <td>Ratatouille</td>\n",
       "      <td>2.081292</td>\n",
       "    </tr>\n",
       "    <tr>\n",
       "      <th>7</th>\n",
       "      <td>Avengers: Infinity War</td>\n",
       "      <td>2.492632</td>\n",
       "    </tr>\n",
       "    <tr>\n",
       "      <th>8</th>\n",
       "      <td>Rogue One</td>\n",
       "      <td>2.865826</td>\n",
       "    </tr>\n",
       "    <tr>\n",
       "      <th>9</th>\n",
       "      <td>Captain America: Civil War</td>\n",
       "      <td>2.920262</td>\n",
       "    </tr>\n",
       "    <tr>\n",
       "      <th>10</th>\n",
       "      <td>Avatar</td>\n",
       "      <td>3.077952</td>\n",
       "    </tr>\n",
       "    <tr>\n",
       "      <th>11</th>\n",
       "      <td>Jurassic Park</td>\n",
       "      <td>3.185506</td>\n",
       "    </tr>\n",
       "    <tr>\n",
       "      <th>12</th>\n",
       "      <td>The Dark Knight Rises</td>\n",
       "      <td>3.432444</td>\n",
       "    </tr>\n",
       "    <tr>\n",
       "      <th>13</th>\n",
       "      <td>Iron Man</td>\n",
       "      <td>3.603466</td>\n",
       "    </tr>\n",
       "  </tbody>\n",
       "</table>\n",
       "</div>"
      ],
      "text/plain": [
       "                         movie  distance\n",
       "0                           Up  0.987513\n",
       "1                   Inside Out  1.230338\n",
       "2                  Toy Story 3  1.311447\n",
       "3               Monsters, Inc.  1.403269\n",
       "4                        Shrek  1.962566\n",
       "5                     Zootopia  2.065362\n",
       "6                  Ratatouille  2.081292\n",
       "7       Avengers: Infinity War  2.492632\n",
       "8                    Rogue One  2.865826\n",
       "9   Captain America: Civil War  2.920262\n",
       "10                      Avatar  3.077952\n",
       "11               Jurassic Park  3.185506\n",
       "12       The Dark Knight Rises  3.432444\n",
       "13                    Iron Man  3.603466"
      ]
     },
     "execution_count": 45,
     "metadata": {},
     "output_type": "execute_result"
    }
   ],
   "source": [
    "movies = ['Finding Nemo', 'The Avengers']\n",
    "recommender = Recommender(df, df_original, metric='euclidean')\n",
    "for movie in movies:\n",
    "    recommender.add_movie(movie)\n",
    "recommender.recommend()"
   ]
  },
  {
   "attachments": {},
   "cell_type": "markdown",
   "metadata": {},
   "source": [
    "# results\n",
    "- The Godfather - found part II, goodfellas, pulp fiction\n",
    "- Finding Nemo - all titles are disney movies\n",
    "- The Avengers - found marvel movies like Iron man, Captain America"
   ]
  }
 ],
 "metadata": {
  "kernelspec": {
   "display_name": "Python 3",
   "language": "python",
   "name": "python3"
  },
  "language_info": {
   "codemirror_mode": {
    "name": "ipython",
    "version": 3
   },
   "file_extension": ".py",
   "mimetype": "text/x-python",
   "name": "python",
   "nbconvert_exporter": "python",
   "pygments_lexer": "ipython3",
   "version": "3.10.10"
  },
  "orig_nbformat": 4
 },
 "nbformat": 4,
 "nbformat_minor": 2
}
